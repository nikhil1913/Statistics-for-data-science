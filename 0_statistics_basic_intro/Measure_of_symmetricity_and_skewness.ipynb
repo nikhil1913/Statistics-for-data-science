{
 "cells": [
  {
   "cell_type": "code",
   "execution_count": 18,
   "id": "a1f0fb2d-3f94-45ed-81fe-ea96925cc39a",
   "metadata": {},
   "outputs": [],
   "source": [
    "import numpy as np\n",
    "import pandas as pd"
   ]
  },
  {
   "cell_type": "code",
   "execution_count": 20,
   "id": "15eba6d0-3f28-4692-86d8-1d30e15e4158",
   "metadata": {},
   "outputs": [],
   "source": [
    "# measure of dispersion"
   ]
  },
  {
   "cell_type": "code",
   "execution_count": 22,
   "id": "ce8d868c-8dae-46c5-9ce8-646ee1a8db67",
   "metadata": {},
   "outputs": [],
   "source": [
    "# measure of summetricity"
   ]
  },
  {
   "cell_type": "code",
   "execution_count": 24,
   "id": "e274a9b5-ded1-419c-83eb-c375d3206266",
   "metadata": {},
   "outputs": [],
   "source": [
    "data = [2,3,4,5,9,12,40,41,15]"
   ]
  },
  {
   "cell_type": "code",
   "execution_count": 26,
   "id": "8aa86535-c99c-4ff2-ae89-8c6af488ccb0",
   "metadata": {},
   "outputs": [
    {
     "data": {
      "text/plain": [
       "[2, 3, 4, 5, 9, 12, 40, 41, 15]"
      ]
     },
     "execution_count": 26,
     "metadata": {},
     "output_type": "execute_result"
    }
   ],
   "source": [
    "data"
   ]
  },
  {
   "cell_type": "code",
   "execution_count": 28,
   "id": "c6cf64fa-aad7-41b4-a7d1-6ea2cf52eb2d",
   "metadata": {},
   "outputs": [],
   "source": [
    "max_d = max(data)\n",
    "min_d = min(data)"
   ]
  },
  {
   "cell_type": "code",
   "execution_count": 30,
   "id": "194f988d-7fd1-4c31-bfa3-96ec9f8ca88c",
   "metadata": {},
   "outputs": [
    {
     "name": "stdout",
     "output_type": "stream",
     "text": [
      "the max value is 41\n",
      "the min value is 2\n"
     ]
    }
   ],
   "source": [
    "print(f\"the max value is {max_d}\")\n",
    "print(f\"the min value is {min_d}\")"
   ]
  },
  {
   "cell_type": "code",
   "execution_count": 34,
   "id": "a379a9ea-bb8a-48aa-ac4c-3d3ac3a089e2",
   "metadata": {},
   "outputs": [],
   "source": [
    "q1 , q3 = np.percentile(data,[25,75])"
   ]
  },
  {
   "cell_type": "code",
   "execution_count": 36,
   "id": "406bc6cc-9325-4140-bda9-9c2af0543a72",
   "metadata": {},
   "outputs": [],
   "source": [
    "iqr = q3-q1"
   ]
  },
  {
   "cell_type": "code",
   "execution_count": 38,
   "id": "9fc748dd-ac2d-4212-80b5-56393abe76f9",
   "metadata": {},
   "outputs": [
    {
     "data": {
      "text/plain": [
       "11.0"
      ]
     },
     "execution_count": 38,
     "metadata": {},
     "output_type": "execute_result"
    }
   ],
   "source": [
    "iqr"
   ]
  },
  {
   "cell_type": "code",
   "execution_count": 44,
   "id": "82ef0d3e-92b0-4638-b573-eeebc40f0165",
   "metadata": {},
   "outputs": [
    {
     "data": {
      "text/plain": [
       "208.69135802469134"
      ]
     },
     "execution_count": 44,
     "metadata": {},
     "output_type": "execute_result"
    }
   ],
   "source": [
    "# variance \n",
    "np.var(data)"
   ]
  },
  {
   "cell_type": "code",
   "execution_count": 48,
   "id": "08dde8a9-05a0-4359-b213-e4129bffd67b",
   "metadata": {},
   "outputs": [
    {
     "data": {
      "text/plain": [
       "14.446153745017783"
      ]
     },
     "execution_count": 48,
     "metadata": {},
     "output_type": "execute_result"
    }
   ],
   "source": [
    "# standard dviation\n",
    "np.std(data)"
   ]
  },
  {
   "cell_type": "code",
   "execution_count": 62,
   "id": "55f69352-9e9c-49ed-ba36-8b3fd97742db",
   "metadata": {},
   "outputs": [
    {
     "name": "stdout",
     "output_type": "stream",
     "text": [
      "234.77777777777777\n",
      "208.69135802469137\n"
     ]
    }
   ],
   "source": [
    "# other libraries\n",
    "import statistics as st\n",
    "print(st.variance(data)) # this is sample variance\n",
    "print(st.pvariance(data)) # this is population variance\n",
    "\n",
    "#  in numoy and statistics lib both showing different result this because statistics consider it as sample variance"
   ]
  },
  {
   "cell_type": "code",
   "execution_count": 66,
   "id": "5c8bc646-d0d5-4844-92a4-8095aeb4f1d6",
   "metadata": {},
   "outputs": [
    {
     "name": "stdout",
     "output_type": "stream",
     "text": [
      "1.0764380194196892\n"
     ]
    }
   ],
   "source": [
    "# skewness\n",
    "\n",
    "from scipy.stats import skew\n",
    "print(skew(data))"
   ]
  },
  {
   "cell_type": "code",
   "execution_count": null,
   "id": "8dd2b64f-155d-4407-bc6e-d2ff33e7ea46",
   "metadata": {},
   "outputs": [],
   "source": []
  }
 ],
 "metadata": {
  "kernelspec": {
   "display_name": "Python [conda env:base] *",
   "language": "python",
   "name": "conda-base-py"
  },
  "language_info": {
   "codemirror_mode": {
    "name": "ipython",
    "version": 3
   },
   "file_extension": ".py",
   "mimetype": "text/x-python",
   "name": "python",
   "nbconvert_exporter": "python",
   "pygments_lexer": "ipython3",
   "version": "3.12.7"
  }
 },
 "nbformat": 4,
 "nbformat_minor": 5
}
