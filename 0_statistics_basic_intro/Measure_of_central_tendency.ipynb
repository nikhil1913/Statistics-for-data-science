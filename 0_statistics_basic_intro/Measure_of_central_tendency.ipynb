{
 "cells": [
  {
   "cell_type": "code",
   "execution_count": 1,
   "id": "9ea2d933-2e30-48c4-9cb9-46e43e7db2ce",
   "metadata": {},
   "outputs": [],
   "source": [
    "import numpy as np"
   ]
  },
  {
   "cell_type": "code",
   "execution_count": 13,
   "id": "10012918-1a4b-472e-be7e-02dc8b5afa3a",
   "metadata": {},
   "outputs": [
    {
     "name": "stdout",
     "output_type": "stream",
     "text": [
      "The average age of the class is : 21.17\n",
      "The average age of the class is : 21.17\n"
     ]
    }
   ],
   "source": [
    "# calculating mean\n",
    "# using in built fun in numpy\n",
    "age = [19,21,20,25,23,19]\n",
    "print(f\"The average age of the class is : {np.mean(age):.2f}\")\n",
    "\n",
    "# using statistical formaulae\n",
    "mean = sum(age)/len(age)\n",
    "print(f\"The average age of the class is : {mean:.2f}\")"
   ]
  },
  {
   "cell_type": "code",
   "execution_count": 47,
   "id": "59f3b58f-51ec-49fd-a50c-aecb09a64a0b",
   "metadata": {},
   "outputs": [
    {
     "name": "stdout",
     "output_type": "stream",
     "text": [
      "the mean of the given list is : 4.00\n",
      "[1, 2, 3, 3, 4, 4, 6, 6, 8, 37]\n",
      "the mean of the given list is : 4.00\n"
     ]
    }
   ],
   "source": [
    "#calculating mediean\n",
    "# using the inbuilt numpy library \n",
    "nums = [1,2,3,4,3,6,8,4,37,6]\n",
    "print(f\"the mean of the given list is : {np.median(nums):.2f}\")\n",
    "\n",
    "# using the statistical method\n",
    "nums = sorted(nums)\n",
    "print(nums)\n",
    "if len(nums)%2==0:\n",
    "    median = ( nums[int(len(nums)/2)-1] + nums[int(len(nums)/2 )])/2\n",
    "else :\n",
    "    median = nums[(len(nums)+1)/2]\n",
    "\n",
    "print(f\"the mean of the given list is : {median:.2f}\")"
   ]
  },
  {
   "cell_type": "code",
   "execution_count": 75,
   "id": "7e9a65b5-a135-474d-97cb-05a27ec2a086",
   "metadata": {},
   "outputs": [
    {
     "name": "stdout",
     "output_type": "stream",
     "text": [
      "the mean of the given list is : 2.00\n",
      "the mean of the given list is : 2.00\n"
     ]
    }
   ],
   "source": [
    "#calculating mode\n",
    "# using the inbuilt statistics library \n",
    "import statistics as st\n",
    "nums = [1,2,3,2,47,3,6,8,4,37,6]\n",
    "print(f\"the mean of the given list is : {st.mode(nums):.2f}\")\n",
    "\n",
    "# using the statistical method\n",
    "nums = sorted(nums)\n",
    "count = 1\n",
    "m_count = 0\n",
    "mode = nums[0]\n",
    "for i in range(1,len(nums)):\n",
    "    if nums[i]==nums[i-1]:\n",
    "        count = count+1\n",
    "    else:\n",
    "        count = 1;\n",
    "    if m_count < count :\n",
    "        mode = nums[i-1]\n",
    "        m_count = count\n",
    "\n",
    "print(f\"the mean of the given list is : {mode:.2f}\")"
   ]
  },
  {
   "cell_type": "code",
   "execution_count": null,
   "id": "86ef412a-f2df-4c53-90e5-ce9f91880f81",
   "metadata": {},
   "outputs": [],
   "source": []
  }
 ],
 "metadata": {
  "kernelspec": {
   "display_name": "Python [conda env:base] *",
   "language": "python",
   "name": "conda-base-py"
  },
  "language_info": {
   "codemirror_mode": {
    "name": "ipython",
    "version": 3
   },
   "file_extension": ".py",
   "mimetype": "text/x-python",
   "name": "python",
   "nbconvert_exporter": "python",
   "pygments_lexer": "ipython3",
   "version": "3.12.7"
  }
 },
 "nbformat": 4,
 "nbformat_minor": 5
}
